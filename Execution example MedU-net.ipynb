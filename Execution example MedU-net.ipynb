{
 "cells": [
  {
   "cell_type": "markdown",
   "metadata": {},
   "source": [
    "# Brain Tumor Volumetric Segmentation in Multimodal MRI Using 3D CNN \n",
    "### MedU-net arquitecture\n",
    "by José L. Rondo\n"
   ]
  },
  {
   "cell_type": "code",
   "execution_count": 1,
   "metadata": {},
   "outputs": [],
   "source": [
    "import time\n",
    "import numpy as np  # For data manipulation\n",
    "from keras.optimizers import *\n",
    "from keras.callbacks import *\n",
    "from MedUnet_model import build_MedUnet\n",
    "from model_metrics import dice_coefficient, sensitivity, specificity, loss_gt\n",
    "from results_visualization import predictVolume, show_segmented_image"
   ]
  },
  {
   "cell_type": "code",
   "execution_count": 2,
   "metadata": {},
   "outputs": [],
   "source": [
    "#We defined some hyperparameters\n",
    "input_shape = (4, 112, 160, 128) #Our input resolution\n",
    "data_format = 'channels_first' \n",
    "output_channels = 3 #Each channel for each glioma subregion\n",
    "kernel_size=3 #Kernel size for convolution block\n",
    "conc_kernel=1 #Kernel size for concatenation block\n",
    "n_filters=16 #nro de filters for convolution block\n",
    "conc_filters=32 #nro de filters for concatenation block\n",
    "dropout=0.2\n",
    "lr = 1e-4"
   ]
  },
  {
   "cell_type": "code",
   "execution_count": 4,
   "metadata": {},
   "outputs": [],
   "source": [
    "data_train = np.load('./ProjectTesis_Data/FinalData/data_trainMR.npy')\n",
    "labels_train = np.load('./ProjectTesis_Data/FinalData/labels_trainMR.npy')"
   ]
  },
  {
   "cell_type": "code",
   "execution_count": 2,
   "metadata": {},
   "outputs": [],
   "source": [
    "data_test = np.load('./ProjectTesis_Data/FinalData/data_testMR.npy')\n",
    "labels_test = np.load('./ProjectTesis_Data/FinalData/labels_testMR.npy') "
   ]
  },
  {
   "cell_type": "markdown",
   "metadata": {},
   "source": [
    "Build the model"
   ]
  },
  {
   "cell_type": "code",
   "execution_count": 3,
   "metadata": {},
   "outputs": [],
   "source": [
    "#The last parameter \"True\" means that group normalization layer was used\n",
    "model = build_MedUnet(input_shape, output_channels, n_filters, conc_filters, \n",
    "                      kernel_size, conc_kernel, dropout, True)"
   ]
  },
  {
   "cell_type": "markdown",
   "metadata": {},
   "source": [
    "Compile the model"
   ]
  },
  {
   "cell_type": "code",
   "execution_count": 5,
   "metadata": {},
   "outputs": [],
   "source": [
    "model.compile(loss=[loss_gt(1e-8)],\n",
    "        metrics=[dice_coefficient, 'Precision', sensitivity, specificity], \n",
    "              optimizer = Adam(lr))"
   ]
  },
  {
   "cell_type": "code",
   "execution_count": 6,
   "metadata": {},
   "outputs": [],
   "source": [
    "#You can uncomment:\n",
    "#\"EarlyStopping\" to stop the training if \"val_los\" does not improve in \"patience\" epochs.\n",
    "#\"ReduceLROnPlateau\" to reduce Learning Rate (lr=1e-4 in our case) if \"val_los\" does not improve in \"patience\" epochs.\n",
    "#\"ModelCheckpoint\" to save your best model during training.\n",
    "callbacks = [\n",
    "    #EarlyStopping(monitor=\"val_loss\",mode=\"min\", patience=50, verbose=1),\n",
    "    #ReduceLROnPlateau(monitor=\"val_loss\", mode=\"min\", factor=0.1, patience=50, min_lr=0.000001, verbose=1),\n",
    "    #ModelCheckpoint('./ProjectTesis_Data/unet_Tesis_V4.h5', verbose=1, save_best_only=True, save_weights_only=True)\n",
    "]"
   ]
  },
  {
   "cell_type": "markdown",
   "metadata": {},
   "source": [
    "Train the model"
   ]
  },
  {
   "cell_type": "code",
   "execution_count": 7,
   "metadata": {},
   "outputs": [
    {
     "name": "stdout",
     "output_type": "stream",
     "text": [
      "Entrenando modelo...\n",
      "\n",
      "Epoch 1/5\n",
      "300/300 [==============================] - 286s 891ms/step - loss: 0.8872 - dice_coefficient: 0.1128 - precision: 0.0372 - sensitivity: 0.7864 - specificity: 0.6450 - val_loss: 0.7629 - val_dice_coefficient: 0.2371 - val_precision: 0.3385 - val_sensitivity: 0.7733 - val_specificity: 0.9705\n",
      "Epoch 2/5\n",
      "300/300 [==============================] - 268s 893ms/step - loss: 0.6777 - dice_coefficient: 0.3223 - precision: 0.3341 - sensitivity: 0.8577 - specificity: 0.9756 - val_loss: 0.7216 - val_dice_coefficient: 0.2784 - val_precision: 0.4339 - val_sensitivity: 0.7269 - val_specificity: 0.9810\n",
      "Epoch 3/5\n",
      "300/300 [==============================] - 268s 893ms/step - loss: 0.6167 - dice_coefficient: 0.3833 - precision: 0.3870 - sensitivity: 0.8424 - specificity: 0.9825 - val_loss: 0.6740 - val_dice_coefficient: 0.3260 - val_precision: 0.4910 - val_sensitivity: 0.6594 - val_specificity: 0.9872\n",
      "Epoch 4/5\n",
      "300/300 [==============================] - 266s 888ms/step - loss: 0.5396 - dice_coefficient: 0.4604 - precision: 0.4473 - sensitivity: 0.8250 - specificity: 0.9855 - val_loss: 0.6126 - val_dice_coefficient: 0.3874 - val_precision: 0.5326 - val_sensitivity: 0.6412 - val_specificity: 0.9885\n",
      "Epoch 5/5\n",
      "300/300 [==============================] - 266s 887ms/step - loss: 0.4883 - dice_coefficient: 0.5117 - precision: 0.4971 - sensitivity: 0.8187 - specificity: 0.9883 - val_loss: 0.5793 - val_dice_coefficient: 0.4207 - val_precision: 0.5111 - val_sensitivity: 0.6592 - val_specificity: 0.9878\n",
      "Entrenamiento finalizado tras 22.581884209314982 minutos.\n"
     ]
    }
   ],
   "source": [
    "#Due to GPU limitations batch size was set to 1.\n",
    "#we use 300 epochs in our training, you can modify this value whether you think convenience.\n",
    "t0 = time.time()\n",
    "print('Entrenando modelo...')\n",
    "print('')\n",
    "\n",
    "history = model.fit(data_train, labels_train, batch_size=1, epochs=5,\n",
    "                   validation_split=0.1, callbacks=callbacks)\n",
    "\n",
    "t= time.time()\n",
    "t_trans = t-t0\n",
    "print('Entrenamiento finalizado tras', t_trans/60, 'minutos.')"
   ]
  },
  {
   "cell_type": "markdown",
   "metadata": {},
   "source": [
    "Metrics after training"
   ]
  },
  {
   "cell_type": "code",
   "execution_count": 10,
   "metadata": {},
   "outputs": [
    {
     "name": "stdout",
     "output_type": "stream",
     "text": [
      "35/35 [==============================] - 7s 193ms/step - loss: 0.4226 - dice_coefficient: 0.5774 - precision: 0.5081 - sensitivity: 0.8275 - specificity: 0.9873\n",
      "['loss', 'dice_coefficient', 'precision', 'sensitivity', 'specificity']\n",
      "Test loss: 0.42258691787719727 / Test DICE: 0.577413022518158\n"
     ]
    }
   ],
   "source": [
    "score = model.evaluate(data_test, labels_test, batch_size=1, verbose=1)\n",
    "print(model.metrics_names)\n",
    "print(f'Test loss: {score[0]} / Test DICE: {score[1]}')"
   ]
  },
  {
   "cell_type": "code",
   "execution_count": 11,
   "metadata": {},
   "outputs": [
    {
     "name": "stdout",
     "output_type": "stream",
     "text": [
      "35/35 [==============================] - 8s 200ms/step\n"
     ]
    }
   ],
   "source": [
    "prediction=model.predict(data_test, batch_size=1, verbose=1)"
   ]
  },
  {
   "cell_type": "markdown",
   "metadata": {},
   "source": [
    "Save your predicctions to show later"
   ]
  },
  {
   "cell_type": "code",
   "execution_count": null,
   "metadata": {},
   "outputs": [],
   "source": [
    "np.save('./ProjectTesis_Data/FinalData/prediccion#PATs35_BS1_E369_DICE08524.npy',prediction)"
   ]
  },
  {
   "cell_type": "markdown",
   "metadata": {},
   "source": [
    "Visualization Section"
   ]
  },
  {
   "cell_type": "code",
   "execution_count": 3,
   "metadata": {},
   "outputs": [],
   "source": [
    "#We need to load \"data_test\" and \"labels_test\" for visualization\n",
    "T1c=data_test[29]\n",
    "predictions = np.load('./ProjectTesis_Data/FinalData/prediccion#PATs35_BS1_E369_DICE08524.npy') "
   ]
  },
  {
   "cell_type": "code",
   "execution_count": 4,
   "metadata": {},
   "outputs": [
    {
     "data": {
      "text/plain": [
       "(35, 3, 112, 160, 128)"
      ]
     },
     "execution_count": 4,
     "metadata": {},
     "output_type": "execute_result"
    }
   ],
   "source": [
    "predictions.shape #We obtain 35 predictions i.e. 35 glioma segmentations"
   ]
  },
  {
   "cell_type": "code",
   "execution_count": 5,
   "metadata": {},
   "outputs": [],
   "source": [
    "#we choose any patient between 0-34 (35 in total)\n",
    "#Our predicctions has three channels which each one represent a diferent glioma subregion.\n",
    "# 0==> Necrosis and nonenhancing tumor core\n",
    "# 1==> Peritumoral Edema\n",
    "# 2==> Enhancing Tumor Core\n",
    "imgTarget0 = predictions[29][0]\n",
    "imgTarget1 = predictions[29][1]\n",
    "imgTarget2 = predictions[29][2]\n",
    "GT_Target0 = labels_test[29][0]\n",
    "GT_Target1 = labels_test[29][1]\n",
    "GT_Target2 = labels_test[29][2]"
   ]
  },
  {
   "cell_type": "code",
   "execution_count": 6,
   "metadata": {},
   "outputs": [],
   "source": [
    "#Obtain the volume of each subregion to show\n",
    "predImg0 = predictVolume(imgTarget0)\n",
    "predImg1 = predictVolume(imgTarget1)\n",
    "predImg2 = predictVolume(imgTarget2)\n",
    "GTImg0 = predictVolume(GT_Target0)\n",
    "GTImg1 = predictVolume(GT_Target1)\n",
    "GTImg2 = predictVolume(GT_Target2)"
   ]
  },
  {
   "cell_type": "code",
   "execution_count": 8,
   "metadata": {},
   "outputs": [
    {
     "data": {
      "image/png": "[encoded data removed]",
      "text/plain": [
       "<Figure size 720x504 with 3 Axes>"
      ]
     },
     "metadata": {
      "needs_background": "light"
     },
     "output_type": "display_data"
    }
   ],
   "source": [
    "show_segmented_image(predImg0, predImg1, predImg2, GTImg0, GTImg1, GTImg2, T1c, modality='t1c', show = True)"
   ]
  },
  {
   "cell_type": "code",
   "execution_count": null,
   "metadata": {},
   "outputs": [],
   "source": []
  }
 ],
 "metadata": {
  "kernelspec": {
   "display_name": "Python 3",
   "language": "python",
   "name": "python3"
  },
  "language_info": {
   "codemirror_mode": {
    "name": "ipython",
    "version": 3
   },
   "file_extension": ".py",
   "mimetype": "text/x-python",
   "name": "python",
   "nbconvert_exporter": "python",
   "pygments_lexer": "ipython3",
   "version": "3.6.6"
  }
 },
 "nbformat": 4,
 "nbformat_minor": 4
}
